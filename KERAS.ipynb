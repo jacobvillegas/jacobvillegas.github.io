{
  "cells": [
    {
      "cell_type": "markdown",
      "metadata": {
        "id": "G5fiS2HYfyz-"
      },
      "source": [
        "IMPORTS"
      ]
    },
    {
      "cell_type": "code",
      "execution_count": null,
      "metadata": {
        "id": "78RseY9FfnmR"
      },
      "outputs": [],
      "source": [
        "from tensorflow.keras.models import Sequential\n",
        "from tensorflow.keras import layers, models, preprocessing\n",
        "from tensorflow.keras.layers import Embedding\n",
        "from tensorflow.keras.layers import Flatten\n",
        "from tensorflow.keras.layers import LSTM\n",
        "from tensorflow.keras.layers.experimental.preprocessing import TextVectorization\n",
        "from tensorflow.keras.preprocessing.text import Tokenizer\n",
        "from tensorflow.keras import Input\n",
        "from tensorflow.keras.preprocessing.text import one_hot\n",
        "import numpy as np\n",
        "import pandas as pd\n",
        "from sklearn.preprocessing import LabelEncoder\n",
        "import matplotlib.pyplot as plt\n"
      ]
    },
    {
      "cell_type": "markdown",
      "metadata": {
        "id": "GuR_370Xf7Ji"
      },
      "source": [
        "FILE UPLOADS"
      ]
    },
    {
      "cell_type": "code",
      "execution_count": null,
      "metadata": {
        "colab": {
          "base_uri": "https://localhost:8080/",
          "height": 109
        },
        "id": "HSSpBUnjfPoy",
        "outputId": "2972a2ba-8df0-4acf-957c-0047bac09967"
      },
      "outputs": [
        {
          "output_type": "display_data",
          "data": {
            "text/plain": [
              "<IPython.core.display.HTML object>"
            ],
            "text/html": [
              "\n",
              "     <input type=\"file\" id=\"files-c7445ff8-567b-46aa-8d98-d37069b45216\" name=\"files[]\" multiple disabled\n",
              "        style=\"border:none\" />\n",
              "     <output id=\"result-c7445ff8-567b-46aa-8d98-d37069b45216\">\n",
              "      Upload widget is only available when the cell has been executed in the\n",
              "      current browser session. Please rerun this cell to enable.\n",
              "      </output>\n",
              "      <script>// Copyright 2017 Google LLC\n",
              "//\n",
              "// Licensed under the Apache License, Version 2.0 (the \"License\");\n",
              "// you may not use this file except in compliance with the License.\n",
              "// You may obtain a copy of the License at\n",
              "//\n",
              "//      http://www.apache.org/licenses/LICENSE-2.0\n",
              "//\n",
              "// Unless required by applicable law or agreed to in writing, software\n",
              "// distributed under the License is distributed on an \"AS IS\" BASIS,\n",
              "// WITHOUT WARRANTIES OR CONDITIONS OF ANY KIND, either express or implied.\n",
              "// See the License for the specific language governing permissions and\n",
              "// limitations under the License.\n",
              "\n",
              "/**\n",
              " * @fileoverview Helpers for google.colab Python module.\n",
              " */\n",
              "(function(scope) {\n",
              "function span(text, styleAttributes = {}) {\n",
              "  const element = document.createElement('span');\n",
              "  element.textContent = text;\n",
              "  for (const key of Object.keys(styleAttributes)) {\n",
              "    element.style[key] = styleAttributes[key];\n",
              "  }\n",
              "  return element;\n",
              "}\n",
              "\n",
              "// Max number of bytes which will be uploaded at a time.\n",
              "const MAX_PAYLOAD_SIZE = 100 * 1024;\n",
              "\n",
              "function _uploadFiles(inputId, outputId) {\n",
              "  const steps = uploadFilesStep(inputId, outputId);\n",
              "  const outputElement = document.getElementById(outputId);\n",
              "  // Cache steps on the outputElement to make it available for the next call\n",
              "  // to uploadFilesContinue from Python.\n",
              "  outputElement.steps = steps;\n",
              "\n",
              "  return _uploadFilesContinue(outputId);\n",
              "}\n",
              "\n",
              "// This is roughly an async generator (not supported in the browser yet),\n",
              "// where there are multiple asynchronous steps and the Python side is going\n",
              "// to poll for completion of each step.\n",
              "// This uses a Promise to block the python side on completion of each step,\n",
              "// then passes the result of the previous step as the input to the next step.\n",
              "function _uploadFilesContinue(outputId) {\n",
              "  const outputElement = document.getElementById(outputId);\n",
              "  const steps = outputElement.steps;\n",
              "\n",
              "  const next = steps.next(outputElement.lastPromiseValue);\n",
              "  return Promise.resolve(next.value.promise).then((value) => {\n",
              "    // Cache the last promise value to make it available to the next\n",
              "    // step of the generator.\n",
              "    outputElement.lastPromiseValue = value;\n",
              "    return next.value.response;\n",
              "  });\n",
              "}\n",
              "\n",
              "/**\n",
              " * Generator function which is called between each async step of the upload\n",
              " * process.\n",
              " * @param {string} inputId Element ID of the input file picker element.\n",
              " * @param {string} outputId Element ID of the output display.\n",
              " * @return {!Iterable<!Object>} Iterable of next steps.\n",
              " */\n",
              "function* uploadFilesStep(inputId, outputId) {\n",
              "  const inputElement = document.getElementById(inputId);\n",
              "  inputElement.disabled = false;\n",
              "\n",
              "  const outputElement = document.getElementById(outputId);\n",
              "  outputElement.innerHTML = '';\n",
              "\n",
              "  const pickedPromise = new Promise((resolve) => {\n",
              "    inputElement.addEventListener('change', (e) => {\n",
              "      resolve(e.target.files);\n",
              "    });\n",
              "  });\n",
              "\n",
              "  const cancel = document.createElement('button');\n",
              "  inputElement.parentElement.appendChild(cancel);\n",
              "  cancel.textContent = 'Cancel upload';\n",
              "  const cancelPromise = new Promise((resolve) => {\n",
              "    cancel.onclick = () => {\n",
              "      resolve(null);\n",
              "    };\n",
              "  });\n",
              "\n",
              "  // Wait for the user to pick the files.\n",
              "  const files = yield {\n",
              "    promise: Promise.race([pickedPromise, cancelPromise]),\n",
              "    response: {\n",
              "      action: 'starting',\n",
              "    }\n",
              "  };\n",
              "\n",
              "  cancel.remove();\n",
              "\n",
              "  // Disable the input element since further picks are not allowed.\n",
              "  inputElement.disabled = true;\n",
              "\n",
              "  if (!files) {\n",
              "    return {\n",
              "      response: {\n",
              "        action: 'complete',\n",
              "      }\n",
              "    };\n",
              "  }\n",
              "\n",
              "  for (const file of files) {\n",
              "    const li = document.createElement('li');\n",
              "    li.append(span(file.name, {fontWeight: 'bold'}));\n",
              "    li.append(span(\n",
              "        `(${file.type || 'n/a'}) - ${file.size} bytes, ` +\n",
              "        `last modified: ${\n",
              "            file.lastModifiedDate ? file.lastModifiedDate.toLocaleDateString() :\n",
              "                                    'n/a'} - `));\n",
              "    const percent = span('0% done');\n",
              "    li.appendChild(percent);\n",
              "\n",
              "    outputElement.appendChild(li);\n",
              "\n",
              "    const fileDataPromise = new Promise((resolve) => {\n",
              "      const reader = new FileReader();\n",
              "      reader.onload = (e) => {\n",
              "        resolve(e.target.result);\n",
              "      };\n",
              "      reader.readAsArrayBuffer(file);\n",
              "    });\n",
              "    // Wait for the data to be ready.\n",
              "    let fileData = yield {\n",
              "      promise: fileDataPromise,\n",
              "      response: {\n",
              "        action: 'continue',\n",
              "      }\n",
              "    };\n",
              "\n",
              "    // Use a chunked sending to avoid message size limits. See b/62115660.\n",
              "    let position = 0;\n",
              "    do {\n",
              "      const length = Math.min(fileData.byteLength - position, MAX_PAYLOAD_SIZE);\n",
              "      const chunk = new Uint8Array(fileData, position, length);\n",
              "      position += length;\n",
              "\n",
              "      const base64 = btoa(String.fromCharCode.apply(null, chunk));\n",
              "      yield {\n",
              "        response: {\n",
              "          action: 'append',\n",
              "          file: file.name,\n",
              "          data: base64,\n",
              "        },\n",
              "      };\n",
              "\n",
              "      let percentDone = fileData.byteLength === 0 ?\n",
              "          100 :\n",
              "          Math.round((position / fileData.byteLength) * 100);\n",
              "      percent.textContent = `${percentDone}% done`;\n",
              "\n",
              "    } while (position < fileData.byteLength);\n",
              "  }\n",
              "\n",
              "  // All done.\n",
              "  yield {\n",
              "    response: {\n",
              "      action: 'complete',\n",
              "    }\n",
              "  };\n",
              "}\n",
              "\n",
              "scope.google = scope.google || {};\n",
              "scope.google.colab = scope.google.colab || {};\n",
              "scope.google.colab._files = {\n",
              "  _uploadFiles,\n",
              "  _uploadFilesContinue,\n",
              "};\n",
              "})(self);\n",
              "</script> "
            ]
          },
          "metadata": {}
        },
        {
          "output_type": "stream",
          "name": "stdout",
          "text": [
            "Saving test.csv to test.csv\n",
            "Saving train.csv to train.csv\n"
          ]
        }
      ],
      "source": [
        "from google.colab import files\n",
        "uploaded = files.upload()\n",
        "# https://www.kaggle.com/datasets/vivmankar/physics-vs-chemistry-vs-biology"
      ]
    },
    {
      "cell_type": "markdown",
      "metadata": {
        "id": "aD1kky76g2CL"
      },
      "source": [
        "IMPORTS & DataFrame"
      ]
    },
    {
      "cell_type": "code",
      "execution_count": null,
      "metadata": {
        "colab": {
          "base_uri": "https://localhost:8080/"
        },
        "id": "R51hWjNVgSkA",
        "outputId": "8d154f1d-d079-4a7c-ea77-80eb9b09b111"
      },
      "outputs": [
        {
          "output_type": "stream",
          "name": "stdout",
          "text": [
            "Test Shape: (1586, 2)\n",
            "Train Shape: (8695, 2)\n"
          ]
        }
      ],
      "source": [
        "test_df = pd.read_csv(\"test.csv\")\n",
        "train_df = pd.read_csv(\"train.csv\")\n",
        "test_df = test_df[['Comment', 'Topic']]\n",
        "# print(\"Test dataframe:\\n\", test_df.head(), \"\\n Shape:\", test_df.shape)\n",
        "print(\"Test Shape:\", test_df.shape)\n",
        "train_df = train_df[['Comment', 'Topic']]\n",
        "# print(\"Test dataframe:\\n\", train_df.head(), \"\\n Shape:\",train_df.shape)\n",
        "print(\"Train Shape:\", train_df.shape)"
      ]
    },
    {
      "cell_type": "markdown",
      "metadata": {
        "id": "sI8ML2R4hcAd"
      },
      "source": [
        "LENGTHS"
      ]
    },
    {
      "cell_type": "code",
      "execution_count": null,
      "metadata": {
        "colab": {
          "base_uri": "https://localhost:8080/"
        },
        "id": "1S-yl7JLhf9W",
        "outputId": "b39418c2-84fe-4319-d241-d5f3c017dbcd"
      },
      "outputs": [
        {
          "output_type": "stream",
          "name": "stdout",
          "text": [
            "Longest Vocab Test: 505\n",
            "Longest Vocab Train: 402\n"
          ]
        }
      ],
      "source": [
        "max_len_test = test_df['Comment'].apply(lambda x: len(max(x.split(), key=len))).max()\n",
        "print(\"Longest Vocab Test:\", max_len_test)\n",
        "max_len_train = train_df['Comment'].apply(lambda x: len(max(x.split(), key=len))).max()\n",
        "print(\"Longest Vocab Train:\", max_len_train)"
      ]
    },
    {
      "cell_type": "markdown",
      "metadata": {
        "id": "xyrm3mD-vJQ4"
      },
      "source": [
        "ECODE, FIT, TRAIN"
      ]
    },
    {
      "cell_type": "code",
      "execution_count": null,
      "metadata": {
        "colab": {
          "base_uri": "https://localhost:8080/"
        },
        "id": "Gs0Fj1rXdswg",
        "outputId": "13786850-cb91-405b-91ac-edcf640c8c31"
      },
      "outputs": [
        {
          "output_type": "stream",
          "name": "stdout",
          "text": [
            "[[0.         4.52797955 4.42670578 ... 0.         0.         0.        ]\n",
            " [0.         0.         1.30277876 ... 0.         0.         0.        ]\n",
            " [0.         0.         0.         ... 0.         0.         0.        ]\n",
            " ...\n",
            " [0.         1.18124903 0.         ... 0.         0.         0.        ]\n",
            " [0.         3.47985351 2.20579618 ... 0.         0.         0.        ]\n",
            " [0.         0.         0.         ... 0.         0.         0.        ]]\n"
          ]
        }
      ],
      "source": [
        "lbl_encoder = LabelEncoder()\n",
        "txt_tokenizer = Tokenizer(num_words=2000,\n",
        "                          filters='!\"#$%&()*+,-./:;<=>?@[\\\\]^_`{|}~\\t\\n',\n",
        "                          lower=True,\n",
        "                          split=' ', )\n",
        "\n",
        "lbl_encoder.fit(test_df['Topic'])\n",
        "lbl_encoder.fit(train_df['Topic'])\n",
        "test_df['Encoded_Labels'] = lbl_encoder.transform(test_df['Topic'])\n",
        "train_df['Encoded_Labels'] = lbl_encoder.transform(train_df['Topic'])\n",
        "# print(\"Train\", train_df.head())\n",
        "# print(\"Test\", test_df.head())\n",
        "y_test = test_df.Encoded_Labels\n",
        "y_train = train_df.Encoded_Labels\n",
        "\n",
        "# Vectorize the text\n",
        "txt_tokenizer.fit_on_texts(train_df.Comment)\n",
        "x_train = txt_tokenizer.texts_to_matrix(train_df.Comment, mode='tfidf')\n",
        "x_test = txt_tokenizer.texts_to_matrix(test_df.Comment, mode='tfidf')\n",
        "print(x_train)"
      ]
    },
    {
      "cell_type": "code",
      "source": [
        "import seaborn as sns\n",
        "sns.set_theme(style=\"whitegrid\")\n",
        "sns.countplot(x=\"Topic\", data=train_df,)\n",
        "\n",
        "# X = train_df.Comment\n",
        "# y = train_df.Encoded_Labels\n",
        "# data_y = pd.DataFrame(y, columns=['Encoded_label'])\n",
        "# print(train_df.shape, list(train_df.columns))\n",
        "# sb.countplot(x=\"label\", data=train_df,)\n",
        "\n",
        "#plt.show()"
      ],
      "metadata": {
        "colab": {
          "base_uri": "https://localhost:8080/",
          "height": 476
        },
        "id": "RKmKOk1Oc3O1",
        "outputId": "58329ec2-c887-4adc-bb56-839c11e4d801"
      },
      "execution_count": null,
      "outputs": [
        {
          "output_type": "execute_result",
          "data": {
            "text/plain": [
              "<Axes: xlabel='Topic', ylabel='count'>"
            ]
          },
          "metadata": {},
          "execution_count": 8
        },
        {
          "output_type": "display_data",
          "data": {
            "text/plain": [
              "<Figure size 640x480 with 1 Axes>"
            ],
            "image/png": "[encoded data removed]"
          },
          "metadata": {}
        }
      ]
    },
    {
      "cell_type": "markdown",
      "metadata": {
        "id": "AhjKeaO2vW8Y"
      },
      "source": [
        "SEQUENTIAL MODEL"
      ]
    },
    {
      "cell_type": "markdown",
      "metadata": {
        "id": "ai1Vvt-bvjat"
      },
      "source": [
        "1.) Input Shape"
      ]
    },
    {
      "cell_type": "code",
      "execution_count": null,
      "metadata": {
        "colab": {
          "base_uri": "https://localhost:8080/"
        },
        "id": "XiqNYZu7jFsO",
        "outputId": "8d85cc7d-0f4a-4e95-9c88-4598e271c549"
      },
      "outputs": [
        {
          "output_type": "execute_result",
          "data": {
            "text/plain": [
              "[<tf.Variable 'dense/kernel:0' shape=(2000, 3) dtype=float32, numpy=\n",
              " array([[-0.02664427, -0.01370286, -0.0466907 ],\n",
              "        [-0.0235822 ,  0.03238276,  0.0081976 ],\n",
              "        [ 0.05319918,  0.00562685,  0.01604755],\n",
              "        ...,\n",
              "        [-0.02266423,  0.02491026, -0.00436984],\n",
              "        [ 0.0107451 ,  0.04653747,  0.01302297],\n",
              "        [-0.05252691,  0.0239406 , -0.04269776]], dtype=float32)>,\n",
              " <tf.Variable 'dense/bias:0' shape=(3,) dtype=float32, numpy=array([0., 0., 0.], dtype=float32)>]"
            ]
          },
          "metadata": {},
          "execution_count": 9
        }
      ],
      "source": [
        "layer = layers.Dense(3)\n",
        "x = x_train\n",
        "y =layer(x)\n",
        "layer.weights  # Shape (2000,3)"
      ]
    },
    {
      "cell_type": "markdown",
      "metadata": {
        "id": "XcA2HWWqvuQZ"
      },
      "source": [
        "MODEL CREATION & EVAULATION"
      ]
    },
    {
      "cell_type": "code",
      "execution_count": null,
      "metadata": {
        "colab": {
          "base_uri": "https://localhost:8080/"
        },
        "id": "XkjUeyrSe0br",
        "outputId": "315da75e-64f6-4d06-954f-37b6db0a18a7"
      },
      "outputs": [
        {
          "output_type": "stream",
          "name": "stdout",
          "text": [
            "Epoch 1/20\n",
            "261/261 [==============================] - 7s 11ms/step - loss: 0.4743 - accuracy: 0.3677 - val_loss: 0.3657 - val_accuracy: 0.4736\n",
            "Epoch 2/20\n",
            "261/261 [==============================] - 2s 7ms/step - loss: 0.2509 - accuracy: 0.5344 - val_loss: 0.2480 - val_accuracy: 0.5322\n",
            "Epoch 3/20\n",
            "261/261 [==============================] - 2s 7ms/step - loss: 0.0745 - accuracy: 0.5986 - val_loss: 0.1744 - val_accuracy: 0.5391\n",
            "Epoch 4/20\n",
            "261/261 [==============================] - 2s 8ms/step - loss: -0.0811 - accuracy: 0.6318 - val_loss: 0.0969 - val_accuracy: 0.5437\n",
            "Epoch 5/20\n",
            "261/261 [==============================] - 3s 10ms/step - loss: -0.2205 - accuracy: 0.6533 - val_loss: 0.0580 - val_accuracy: 0.5517\n",
            "Epoch 6/20\n",
            "261/261 [==============================] - 2s 9ms/step - loss: -0.3521 - accuracy: 0.6677 - val_loss: -0.0040 - val_accuracy: 0.5644\n",
            "Epoch 7/20\n",
            "261/261 [==============================] - 2s 7ms/step - loss: -0.4742 - accuracy: 0.6791 - val_loss: -0.0463 - val_accuracy: 0.5586\n",
            "Epoch 8/20\n",
            "261/261 [==============================] - 2s 7ms/step - loss: -0.5821 - accuracy: 0.6836 - val_loss: -0.0712 - val_accuracy: 0.5621\n",
            "Epoch 9/20\n",
            "261/261 [==============================] - 2s 7ms/step - loss: -0.6895 - accuracy: 0.6866 - val_loss: -0.0649 - val_accuracy: 0.5552\n",
            "Epoch 10/20\n",
            "261/261 [==============================] - 2s 8ms/step - loss: -0.7990 - accuracy: 0.6897 - val_loss: -0.0956 - val_accuracy: 0.5644\n",
            "Epoch 11/20\n",
            "261/261 [==============================] - 2s 9ms/step - loss: -0.9043 - accuracy: 0.6924 - val_loss: -0.1424 - val_accuracy: 0.5632\n",
            "Epoch 12/20\n",
            "261/261 [==============================] - 3s 11ms/step - loss: -1.0035 - accuracy: 0.6947 - val_loss: -0.1612 - val_accuracy: 0.5575\n",
            "Epoch 13/20\n",
            "261/261 [==============================] - 2s 8ms/step - loss: -1.1037 - accuracy: 0.6955 - val_loss: -0.2137 - val_accuracy: 0.5644\n",
            "Epoch 14/20\n",
            "261/261 [==============================] - 2s 7ms/step - loss: -1.1999 - accuracy: 0.6965 - val_loss: -0.1789 - val_accuracy: 0.5644\n",
            "Epoch 15/20\n",
            "261/261 [==============================] - 2s 7ms/step - loss: -1.2918 - accuracy: 0.6953 - val_loss: -0.2076 - val_accuracy: 0.5644\n",
            "Epoch 16/20\n",
            "261/261 [==============================] - 2s 8ms/step - loss: -1.3910 - accuracy: 0.6970 - val_loss: -0.2218 - val_accuracy: 0.5598\n",
            "Epoch 17/20\n",
            "261/261 [==============================] - 2s 8ms/step - loss: -1.4864 - accuracy: 0.6975 - val_loss: -0.2794 - val_accuracy: 0.5586\n",
            "Epoch 18/20\n",
            "261/261 [==============================] - 2s 9ms/step - loss: -1.5858 - accuracy: 0.6983 - val_loss: -0.2796 - val_accuracy: 0.5586\n",
            "Epoch 19/20\n",
            "261/261 [==============================] - 2s 8ms/step - loss: -1.6731 - accuracy: 0.6967 - val_loss: -0.2928 - val_accuracy: 0.5540\n",
            "Epoch 20/20\n",
            "261/261 [==============================] - 2s 7ms/step - loss: -1.7790 - accuracy: 0.6992 - val_loss: -0.3410 - val_accuracy: 0.5621\n",
            "53/53 [==============================] - 0s 3ms/step - loss: -1.2854 - accuracy: 0.5599\n",
            "Accuracy:  0.559899091720581\n",
            "[-1.2854478359222412, 0.559899091720581]\n"
          ]
        }
      ],
      "source": [
        "# -----------------------------------Sequential Model---------------------------\n",
        "# Sequential model--4 dense later with a dropout and softmax layer\n",
        "model = Sequential()\n",
        "model.add(layers.Dense(128, input_dim=2000, activation='relu'))\n",
        "model.add(layers.Dense(64, activation='relu'))\n",
        "model.add(layers.Dense(32, activation='relu'))\n",
        "model.add(layers.Dropout(0.15))\n",
        "model.add(layers.Dense(16, activation='relu'))\n",
        "model.add(layers.Dense(8, activation='softmax'))\n",
        "model.add(layers.Dense(1, activation='sigmoid'))\n",
        "\n",
        "\n",
        "#compile the model\n",
        "model.compile(optimizer='rmsprop',\n",
        "              loss='binary_crossentropy',\n",
        "              metrics=['accuracy'])\n",
        "\n",
        "\n",
        "history = model.fit(x_train, y_train,\n",
        "                    batch_size=30,\n",
        "                    epochs=20,\n",
        "                    verbose=1,\n",
        "                    validation_split=0.1)\n",
        "score = model.evaluate(x_test, y_test, batch_size=30, verbose=1)\n",
        "print('Accuracy: ', score[1])\n",
        "print(score)"
      ]
    },
    {
      "cell_type": "markdown",
      "metadata": {
        "id": "dE_JRaxEv54A"
      },
      "source": [
        "PLOTS OF TRAINING ACCURACY AND LOSS"
      ]
    },
    {
      "cell_type": "code",
      "execution_count": null,
      "metadata": {
        "colab": {
          "base_uri": "https://localhost:8080/",
          "height": 480
        },
        "id": "bbkeG02TsMnN",
        "outputId": "06d9b568-65cc-40e7-f3dc-0c874e6cb924"
      },
      "outputs": [
        {
          "output_type": "display_data",
          "data": {
            "text/plain": [
              "<Figure size 640x480 with 1 Axes>"
            ],
            "image/png": "[encoded data removed]"
          },
          "metadata": {}
        }
      ],
      "source": [
        "# plot the training and validation loss\n",
        "import matplotlib.pyplot as plt\n",
        "acc = history.history['accuracy']\n",
        "val_acc = history.history['val_accuracy']\n",
        "loss = history.history['loss']\n",
        "val_loss = history.history['val_loss']\n",
        "epochs = range(1, len(loss)+1)\n",
        "#plt.ylim([-1.9, 1])\n",
        "plt.plot(epochs, loss, 'bo', label='Training loss')\n",
        "plt.plot(epochs, val_loss, 'b', label='Validation loss')\n",
        "plt.plot(epochs, acc, 'ro', label='Training acc')\n",
        "plt.plot(epochs, val_acc, 'r', label='Validation acc')\n",
        "plt.title('Training and validation loss')\n",
        "plt.xlabel('Epochs')\n",
        "plt.ylabel('Loss')\n",
        "plt.legend()\n",
        "\n",
        "plt.show()"
      ]
    },
    {
      "cell_type": "code",
      "execution_count": null,
      "metadata": {
        "colab": {
          "base_uri": "https://localhost:8080/"
        },
        "id": "qHmWtTZZwjsd",
        "outputId": "69a2ab82-e3ad-4272-fb56-7936a3248ca8"
      },
      "outputs": [
        {
          "output_type": "stream",
          "name": "stdout",
          "text": [
            "50/50 [==============================] - 0s 4ms/step\n",
            "              precision    recall  f1-score   support\n",
            "\n",
            "           0       0.82      0.71      0.76       614\n",
            "           1       0.43      0.89      0.58       506\n",
            "           2       0.00      0.00      0.00       466\n",
            "\n",
            "    accuracy                           0.56      1586\n",
            "   macro avg       0.42      0.53      0.45      1586\n",
            "weighted avg       0.45      0.56      0.48      1586\n",
            "\n"
          ]
        },
        {
          "output_type": "stream",
          "name": "stderr",
          "text": [
            "/usr/local/lib/python3.9/dist-packages/sklearn/metrics/_classification.py:1344: UndefinedMetricWarning: Precision and F-score are ill-defined and being set to 0.0 in labels with no predicted samples. Use `zero_division` parameter to control this behavior.\n",
            "  _warn_prf(average, modifier, msg_start, len(result))\n",
            "/usr/local/lib/python3.9/dist-packages/sklearn/metrics/_classification.py:1344: UndefinedMetricWarning: Precision and F-score are ill-defined and being set to 0.0 in labels with no predicted samples. Use `zero_division` parameter to control this behavior.\n",
            "  _warn_prf(average, modifier, msg_start, len(result))\n",
            "/usr/local/lib/python3.9/dist-packages/sklearn/metrics/_classification.py:1344: UndefinedMetricWarning: Precision and F-score are ill-defined and being set to 0.0 in labels with no predicted samples. Use `zero_division` parameter to control this behavior.\n",
            "  _warn_prf(average, modifier, msg_start, len(result))\n"
          ]
        }
      ],
      "source": [
        "from sklearn.metrics import classification_report\n",
        "\n",
        "pred = model.predict(x_test)\n",
        "pred = [1.0 if p>= 0.5 else 0.0 for p in pred]\n",
        "print(classification_report(y_test, pred))"
      ]
    },
    {
      "cell_type": "markdown",
      "metadata": {
        "id": "B9R1CvfBwJ8Z"
      },
      "source": [
        "SIMPLE LSTM /GRU\n"
      ]
    },
    {
      "cell_type": "code",
      "execution_count": null,
      "metadata": {
        "colab": {
          "base_uri": "https://localhost:8080/"
        },
        "id": "mxPcjm0hxBs_",
        "outputId": "06212858-465f-4b43-ee6a-d174238e2183"
      },
      "outputs": [
        {
          "output_type": "stream",
          "name": "stdout",
          "text": [
            "Epoch 1/10\n",
            "62/62 [==============================] - 32s 476ms/step - loss: 0.5875 - accuracy: 0.3356 - val_loss: 0.5281 - val_accuracy: 0.3379\n",
            "Epoch 2/10\n",
            "62/62 [==============================] - 32s 515ms/step - loss: 0.5039 - accuracy: 0.3356 - val_loss: 0.5061 - val_accuracy: 0.3379\n",
            "Epoch 3/10\n",
            "62/62 [==============================] - 25s 402ms/step - loss: 0.4872 - accuracy: 0.3356 - val_loss: 0.4934 - val_accuracy: 0.3379\n",
            "Epoch 4/10\n",
            "62/62 [==============================] - 26s 416ms/step - loss: 0.4744 - accuracy: 0.3356 - val_loss: 0.4840 - val_accuracy: 0.3379\n",
            "Epoch 5/10\n",
            "62/62 [==============================] - 25s 400ms/step - loss: 0.4644 - accuracy: 0.3356 - val_loss: 0.4764 - val_accuracy: 0.3379\n",
            "Epoch 6/10\n",
            "62/62 [==============================] - 26s 421ms/step - loss: 0.4568 - accuracy: 0.3356 - val_loss: 0.4712 - val_accuracy: 0.3379\n",
            "Epoch 7/10\n",
            "62/62 [==============================] - 24s 388ms/step - loss: 0.4511 - accuracy: 0.3356 - val_loss: 0.4677 - val_accuracy: 0.3379\n",
            "Epoch 8/10\n",
            "62/62 [==============================] - 25s 401ms/step - loss: 0.4475 - accuracy: 0.3356 - val_loss: 0.4657 - val_accuracy: 0.3379\n",
            "Epoch 9/10\n",
            "62/62 [==============================] - 25s 402ms/step - loss: 0.4451 - accuracy: 0.3356 - val_loss: 0.4645 - val_accuracy: 0.3379\n",
            "Epoch 10/10\n",
            "62/62 [==============================] - 25s 412ms/step - loss: 0.4435 - accuracy: 0.3356 - val_loss: 0.4639 - val_accuracy: 0.3379\n",
            "13/13 [==============================] - 6s 409ms/step - loss: 0.3447 - accuracy: 0.3190\n",
            "Accuracy:  0.3190416097640991\n",
            "[0.3446827828884125, 0.3190416097640991]\n"
          ]
        }
      ],
      "source": [
        "max_features = 2000\n",
        "maxlen = 500\n",
        "batch_size = 32\n",
        "train_data = preprocessing.sequence.pad_sequences(x_train, maxlen=maxlen)\n",
        "test_data = preprocessing.sequence.pad_sequences(x_test, maxlen=maxlen)\n",
        "\n",
        "model2 = models.Sequential()\n",
        "model2.add(layers.Embedding(max_features, 32))\n",
        "# model2.add(layers.LSTM(32))\n",
        "model2.add(layers.GRU(32))\n",
        "model2.add(layers.Dense(8, activation='softmax'))\n",
        "model2.add(layers.Dense(1, activation='sigmoid'))\n",
        "\n",
        "model2.compile(optimizer='rmsprop',\n",
        "              loss='binary_crossentropy',\n",
        "              metrics=['accuracy'])\n",
        "\n",
        "history2 = model2.fit(train_data,\n",
        "                    y_train,\n",
        "                    epochs=10,\n",
        "                    batch_size=128,\n",
        "                    validation_split=0.1)\n",
        "score = model2.evaluate(x_test, y_test, batch_size=128, verbose=1)\n",
        "print('Accuracy: ', score[1])\n",
        "print(score)"
      ]
    },
    {
      "cell_type": "code",
      "execution_count": null,
      "metadata": {
        "colab": {
          "base_uri": "https://localhost:8080/"
        },
        "id": "AfS2r_l4zDey",
        "outputId": "65751d01-a153-4b42-cfc3-694afb9c3c79"
      },
      "outputs": [
        {
          "output_type": "stream",
          "name": "stdout",
          "text": [
            "50/50 [==============================] - 0s 3ms/step\n",
            "              precision    recall  f1-score   support\n",
            "\n",
            "           0       0.82      0.71      0.76       614\n",
            "           1       0.43      0.89      0.58       506\n",
            "           2       0.00      0.00      0.00       466\n",
            "\n",
            "    accuracy                           0.56      1586\n",
            "   macro avg       0.42      0.53      0.45      1586\n",
            "weighted avg       0.45      0.56      0.48      1586\n",
            "\n"
          ]
        },
        {
          "output_type": "stream",
          "name": "stderr",
          "text": [
            "/usr/local/lib/python3.9/dist-packages/sklearn/metrics/_classification.py:1344: UndefinedMetricWarning: Precision and F-score are ill-defined and being set to 0.0 in labels with no predicted samples. Use `zero_division` parameter to control this behavior.\n",
            "  _warn_prf(average, modifier, msg_start, len(result))\n",
            "/usr/local/lib/python3.9/dist-packages/sklearn/metrics/_classification.py:1344: UndefinedMetricWarning: Precision and F-score are ill-defined and being set to 0.0 in labels with no predicted samples. Use `zero_division` parameter to control this behavior.\n",
            "  _warn_prf(average, modifier, msg_start, len(result))\n",
            "/usr/local/lib/python3.9/dist-packages/sklearn/metrics/_classification.py:1344: UndefinedMetricWarning: Precision and F-score are ill-defined and being set to 0.0 in labels with no predicted samples. Use `zero_division` parameter to control this behavior.\n",
            "  _warn_prf(average, modifier, msg_start, len(result))\n"
          ]
        }
      ],
      "source": [
        "pred2 = model.predict(x_test)\n",
        "pred2 = [1.0 if p>= 0.5 else 0.0 for p in pred2]\n",
        "print(classification_report(y_test, pred2))"
      ]
    },
    {
      "cell_type": "code",
      "source": [
        "model3 = Sequential()\n",
        "model3.add(layers.Embedding(max_features, 32))\n",
        "model3.add(layers.Dense(128, input_dim=2000, activation='relu'))\n",
        "model.add(layers.Dense(64, activation='relu'))\n",
        "model3.add(layers.Dense(32, activation='relu'))\n",
        "model3.add(layers.Dropout(0.15))\n",
        "model3.add(layers.Dense(16, activation='relu'))\n",
        "model3.add(layers.Dense(8, activation='softmax'))\n",
        "model3.add(layers.Dense(1, activation='sigmoid'))\n",
        "\n",
        "\n",
        "#compile the model\n",
        "model3.compile(optimizer='rmsprop',\n",
        "              loss='binary_crossentropy',\n",
        "              metrics=['accuracy'])\n",
        "\n",
        "\n",
        "history3 = model3.fit(x_train, y_train,\n",
        "                    batch_size=30,\n",
        "                    epochs=20,\n",
        "                    verbose=1,\n",
        "                    validation_split=0.1)\n",
        "score = model3.evaluate(x_test, y_test, batch_size=30, verbose=1)\n",
        "print('Accuracy: ', score[1])\n",
        "print(score)"
      ],
      "metadata": {
        "colab": {
          "base_uri": "https://localhost:8080/"
        },
        "id": "eh2FrD7V4O67",
        "outputId": "a79432de-22ff-4e66-b3ce-6e042d6aaeec"
      },
      "execution_count": null,
      "outputs": [
        {
          "output_type": "stream",
          "name": "stdout",
          "text": [
            "Epoch 1/20\n",
            "261/261 [==============================] - 57s 212ms/step - loss: 0.5035 - accuracy: 0.3356 - val_loss: 0.4832 - val_accuracy: 0.3379\n",
            "Epoch 2/20\n",
            "261/261 [==============================] - 54s 208ms/step - loss: 0.4579 - accuracy: 0.3356 - val_loss: 0.4687 - val_accuracy: 0.3379\n",
            "Epoch 3/20\n",
            "261/261 [==============================] - 57s 218ms/step - loss: 0.4470 - accuracy: 0.3356 - val_loss: 0.4646 - val_accuracy: 0.3379\n",
            "Epoch 4/20\n",
            "261/261 [==============================] - 53s 204ms/step - loss: 0.4430 - accuracy: 0.3356 - val_loss: 0.4634 - val_accuracy: 0.3379\n",
            "Epoch 5/20\n",
            "261/261 [==============================] - 54s 207ms/step - loss: 0.4415 - accuracy: 0.3356 - val_loss: 0.4633 - val_accuracy: 0.3379\n",
            "Epoch 6/20\n",
            "261/261 [==============================] - 58s 223ms/step - loss: 0.4408 - accuracy: 0.3356 - val_loss: 0.4634 - val_accuracy: 0.3379\n",
            "Epoch 7/20\n",
            "261/261 [==============================] - 52s 201ms/step - loss: 0.4406 - accuracy: 0.3356 - val_loss: 0.4636 - val_accuracy: 0.3379\n",
            "Epoch 8/20\n",
            "261/261 [==============================] - 52s 198ms/step - loss: 0.4405 - accuracy: 0.3356 - val_loss: 0.4637 - val_accuracy: 0.3379\n",
            "Epoch 9/20\n",
            "261/261 [==============================] - 54s 209ms/step - loss: 0.4405 - accuracy: 0.3356 - val_loss: 0.4638 - val_accuracy: 0.3379\n",
            "Epoch 10/20\n",
            "261/261 [==============================] - 56s 216ms/step - loss: 0.4405 - accuracy: 0.3356 - val_loss: 0.4639 - val_accuracy: 0.3379\n",
            "Epoch 11/20\n",
            "261/261 [==============================] - 56s 215ms/step - loss: 0.4404 - accuracy: 0.3356 - val_loss: 0.4639 - val_accuracy: 0.3379\n",
            "Epoch 12/20\n",
            "261/261 [==============================] - 56s 214ms/step - loss: 0.4405 - accuracy: 0.3356 - val_loss: 0.4639 - val_accuracy: 0.3379\n",
            "Epoch 13/20\n",
            "261/261 [==============================] - 55s 211ms/step - loss: 0.4404 - accuracy: 0.3356 - val_loss: 0.4640 - val_accuracy: 0.3379\n",
            "Epoch 14/20\n",
            "261/261 [==============================] - 56s 216ms/step - loss: 0.4404 - accuracy: 0.3356 - val_loss: 0.4639 - val_accuracy: 0.3379\n",
            "Epoch 15/20\n",
            "261/261 [==============================] - 55s 212ms/step - loss: 0.4404 - accuracy: 0.3356 - val_loss: 0.4639 - val_accuracy: 0.3379\n",
            "Epoch 16/20\n",
            "261/261 [==============================] - 55s 212ms/step - loss: 0.4404 - accuracy: 0.3356 - val_loss: 0.4639 - val_accuracy: 0.3379\n",
            "Epoch 17/20\n",
            "261/261 [==============================] - 56s 215ms/step - loss: 0.4404 - accuracy: 0.3356 - val_loss: 0.4639 - val_accuracy: 0.3379\n",
            "Epoch 18/20\n",
            "261/261 [==============================] - 58s 221ms/step - loss: 0.4405 - accuracy: 0.3356 - val_loss: 0.4638 - val_accuracy: 0.3379\n",
            "Epoch 19/20\n",
            "261/261 [==============================] - 63s 240ms/step - loss: 0.4405 - accuracy: 0.3356 - val_loss: 0.4639 - val_accuracy: 0.3379\n",
            "Epoch 20/20\n",
            "261/261 [==============================] - 58s 221ms/step - loss: 0.4405 - accuracy: 0.3356 - val_loss: 0.4640 - val_accuracy: 0.3379\n",
            "53/53 [==============================] - 3s 56ms/step - loss: 0.3295 - accuracy: 0.3190\n",
            "Accuracy:  0.3190416097640991\n",
            "[0.3295000195503235, 0.3190416097640991]\n"
          ]
        }
      ]
    },
    {
      "cell_type": "code",
      "source": [
        "import matplotlib.pyplot as plt\n",
        "acc = history3.history['accuracy']\n",
        "val_acc = history3.history['val_accuracy']\n",
        "loss = history3.history['loss']\n",
        "val_loss = history3.history['val_loss']\n",
        "epochs = range(1, len(loss)+1)\n",
        "#plt.ylim([-1.9, 1])\n",
        "plt.plot(epochs, loss, 'bo', label='Training loss')\n",
        "plt.plot(epochs, val_loss, 'b', label='Validation loss')\n",
        "plt.plot(epochs, acc, 'ro', label='Training acc')\n",
        "plt.plot(epochs, val_acc, 'r', label='Validation acc')\n",
        "plt.title('Training and validation loss')\n",
        "plt.xlabel('Epochs')\n",
        "plt.ylabel('Loss')\n",
        "plt.legend()\n",
        "\n",
        "plt.show()"
      ],
      "metadata": {
        "colab": {
          "base_uri": "https://localhost:8080/",
          "height": 480
        },
        "id": "MMLfuWb7q8Lt",
        "outputId": "ff2d95de-e5f5-4b97-d7ca-4739f867ee4f"
      },
      "execution_count": null,
      "outputs": [
        {
          "output_type": "display_data",
          "data": {
            "text/plain": [
              "<Figure size 640x480 with 1 Axes>"
            ],
            "image/png": "[encoded data removed]"
          },
          "metadata": {}
        }
      ]
    },
    {
      "cell_type": "code",
      "source": [
        "pred3 = model.predict(x_test)\n",
        "pred3 = [1.0 if p>= 0.5 else 0.0 for p in pred3]\n",
        "print(classification_report(y_test, pred2))"
      ],
      "metadata": {
        "colab": {
          "base_uri": "https://localhost:8080/"
        },
        "id": "4bxnz8hacSQ7",
        "outputId": "0b4eaaa1-aab5-4ab4-e94c-2b65c4e22f0f"
      },
      "execution_count": null,
      "outputs": [
        {
          "output_type": "stream",
          "name": "stdout",
          "text": [
            "50/50 [==============================] - 0s 4ms/step\n",
            "              precision    recall  f1-score   support\n",
            "\n",
            "           0       0.82      0.71      0.76       614\n",
            "           1       0.43      0.89      0.58       506\n",
            "           2       0.00      0.00      0.00       466\n",
            "\n",
            "    accuracy                           0.56      1586\n",
            "   macro avg       0.42      0.53      0.45      1586\n",
            "weighted avg       0.45      0.56      0.48      1586\n",
            "\n"
          ]
        },
        {
          "output_type": "stream",
          "name": "stderr",
          "text": [
            "/usr/local/lib/python3.9/dist-packages/sklearn/metrics/_classification.py:1344: UndefinedMetricWarning: Precision and F-score are ill-defined and being set to 0.0 in labels with no predicted samples. Use `zero_division` parameter to control this behavior.\n",
            "  _warn_prf(average, modifier, msg_start, len(result))\n",
            "/usr/local/lib/python3.9/dist-packages/sklearn/metrics/_classification.py:1344: UndefinedMetricWarning: Precision and F-score are ill-defined and being set to 0.0 in labels with no predicted samples. Use `zero_division` parameter to control this behavior.\n",
            "  _warn_prf(average, modifier, msg_start, len(result))\n",
            "/usr/local/lib/python3.9/dist-packages/sklearn/metrics/_classification.py:1344: UndefinedMetricWarning: Precision and F-score are ill-defined and being set to 0.0 in labels with no predicted samples. Use `zero_division` parameter to control this behavior.\n",
            "  _warn_prf(average, modifier, msg_start, len(result))\n"
          ]
        }
      ]
    }
  ],
  "metadata": {
    "colab": {
      "provenance": []
    },
    "kernelspec": {
      "display_name": "Python 3",
      "name": "python3"
    },
    "language_info": {
      "name": "python"
    }
  },
  "nbformat": 4,
  "nbformat_minor": 0
}